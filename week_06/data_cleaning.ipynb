{
 "cells": [
  {
   "cell_type": "code",
   "execution_count": 4,
   "metadata": {},
   "outputs": [],
   "source": [
    "import pandas as pd\n",
    "import numpy as np"
   ]
  },
  {
   "cell_type": "code",
   "execution_count": null,
   "metadata": {},
   "outputs": [],
   "source": [
    "df = pd.read_json('a3cleanedonly2015.json')\n",
    "\n",
    "df.head()"
   ]
  },
  {
   "cell_type": "code",
   "execution_count": 11,
   "metadata": {},
   "outputs": [],
   "source": [
    "# chart 1: line chart - total # shootings by month\n",
    "df['month'] = df['Date'].dt.month\n",
    "df0 = df.groupby('month')['UID'].count().reset_index()\n",
    "df0.rename(columns={'UID': 'count'}, inplace=True)\n",
    "df0.to_csv('chart1_data.csv')"
   ]
  },
  {
   "cell_type": "code",
   "execution_count": null,
   "metadata": {},
   "outputs": [],
   "source": [
    "# chart 2: pie chart - # deaths by race\n",
    "viz_2 = df.groupby(['Race'])['FIELD1'].count()\n",
    "viz_2 = viz_2.to_frame()\n",
    "viz_2 = viz_2.reset_index()\n",
    "viz_2 = viz_2.replace(\"\", \"N/A\", regex=True)\n",
    "viz_2[\"perc\"] =  (viz_2[\"FIELD1\"]/ viz_2[\"FIELD1\"].sum() * 100).round(1)\n",
    "viz_2 = viz_2.rename(columns={\"FIELD1\": \"count\"})\n",
    "# asian, native, other, \n",
    "viz_2 = viz_2[ (viz_2['perc'] > 2)]\n",
    "\n",
    "viz_2 = viz_2.append({'Race':'Other', 'count':48, 'perc':3.1}, ignore_index=True)\n",
    "viz_2\n",
    "viz_2.to_csv(\"viz_2.csv\")"
   ]
  },
  {
   "cell_type": "code",
   "execution_count": 12,
   "metadata": {},
   "outputs": [],
   "source": [
    "# chart 3: bar chart - counts for each month and genders\n",
    "df1 = df.groupby(['month', 'Gender'])['UID'].count().reset_index()\n",
    "df1.rename(columns={'UID': 'count'}, inplace=True)\n",
    "df2 = pd.pivot(df1, index=['month'], columns = 'Gender', values = 'count').reset_index()\n",
    "df2.rename(columns = {'': 'Other'}, inplace=True)\n",
    "df2.to_csv('chart3_data.csv')"
   ]
  }
 ],
 "metadata": {
  "kernelspec": {
   "display_name": "Python 3.9.13 64-bit",
   "language": "python",
   "name": "python3"
  },
  "language_info": {
   "codemirror_mode": {
    "name": "ipython",
    "version": 3
   },
   "file_extension": ".py",
   "mimetype": "text/x-python",
   "name": "python",
   "nbconvert_exporter": "python",
   "pygments_lexer": "ipython3",
   "version": "3.9.13"
  },
  "orig_nbformat": 4,
  "vscode": {
   "interpreter": {
    "hash": "aee8b7b246df8f9039afb4144a1f6fd8d2ca17a180786b69acc140d282b71a49"
   }
  }
 },
 "nbformat": 4,
 "nbformat_minor": 2
}
