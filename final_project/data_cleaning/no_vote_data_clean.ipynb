{
 "cells": [
  {
   "cell_type": "code",
   "execution_count": 4,
   "metadata": {},
   "outputs": [],
   "source": [
    "import numpy as np\n",
    "import pandas as pd"
   ]
  },
  {
   "cell_type": "code",
   "execution_count": 5,
   "metadata": {},
   "outputs": [],
   "source": [
    "df = pd.read_csv('no_voter_data.csv')"
   ]
  },
  {
   "cell_type": "code",
   "execution_count": 6,
   "metadata": {},
   "outputs": [],
   "source": [
    "# create necessary count columns\n",
    "df['always'] = np.where(df['voter_category'] == 'always', 1, 0)\n",
    "df['sporadic'] = np.where(df['voter_category'] == 'sporadic', 1, 0)\n",
    "df['rarely/never'] = np.where(df['voter_category'] == 'rarely/never', 1, 0)"
   ]
  },
  {
   "cell_type": "code",
   "execution_count": 7,
   "metadata": {},
   "outputs": [
    {
     "data": {
      "text/html": [
       "<div>\n",
       "<style scoped>\n",
       "    .dataframe tbody tr th:only-of-type {\n",
       "        vertical-align: middle;\n",
       "    }\n",
       "\n",
       "    .dataframe tbody tr th {\n",
       "        vertical-align: top;\n",
       "    }\n",
       "\n",
       "    .dataframe thead th {\n",
       "        text-align: right;\n",
       "    }\n",
       "</style>\n",
       "<table border=\"1\" class=\"dataframe\">\n",
       "  <thead>\n",
       "    <tr style=\"text-align: right;\">\n",
       "      <th></th>\n",
       "      <th>race</th>\n",
       "      <th>always</th>\n",
       "      <th>sporadic</th>\n",
       "      <th>rarely/never</th>\n",
       "      <th>total</th>\n",
       "    </tr>\n",
       "  </thead>\n",
       "  <tbody>\n",
       "    <tr>\n",
       "      <th>0</th>\n",
       "      <td>Black</td>\n",
       "      <td>288</td>\n",
       "      <td>420</td>\n",
       "      <td>224</td>\n",
       "      <td>932</td>\n",
       "    </tr>\n",
       "    <tr>\n",
       "      <th>1</th>\n",
       "      <td>Hispanic</td>\n",
       "      <td>168</td>\n",
       "      <td>401</td>\n",
       "      <td>244</td>\n",
       "      <td>813</td>\n",
       "    </tr>\n",
       "    <tr>\n",
       "      <th>2</th>\n",
       "      <td>Other/Mixed</td>\n",
       "      <td>86</td>\n",
       "      <td>174</td>\n",
       "      <td>121</td>\n",
       "      <td>381</td>\n",
       "    </tr>\n",
       "    <tr>\n",
       "      <th>3</th>\n",
       "      <td>White</td>\n",
       "      <td>1269</td>\n",
       "      <td>1579</td>\n",
       "      <td>862</td>\n",
       "      <td>3710</td>\n",
       "    </tr>\n",
       "  </tbody>\n",
       "</table>\n",
       "</div>"
      ],
      "text/plain": [
       "          race  always  sporadic  rarely/never  total\n",
       "0        Black     288       420           224    932\n",
       "1     Hispanic     168       401           244    813\n",
       "2  Other/Mixed      86       174           121    381\n",
       "3        White    1269      1579           862   3710"
      ]
     },
     "execution_count": 7,
     "metadata": {},
     "output_type": "execute_result"
    }
   ],
   "source": [
    "# viz 1 - race \n",
    "df1 = df[[\"race\", \"always\", \"sporadic\", \"rarely/never\"]]\n",
    "df1_pivot = df1.groupby(['race']).sum()\n",
    "df1_pivot[\"total\"] = df1_pivot.sum('columns')\n",
    "df1_pivot = df1_pivot.reset_index()\n",
    "df1_pivot"
   ]
  },
  {
   "cell_type": "code",
   "execution_count": 8,
   "metadata": {},
   "outputs": [],
   "source": [
    "df1_final = round(df1_pivot[['always','sporadic','rarely/never']].div(df1_pivot.total, axis = 0) * 100,1)\n",
    "df1_final = pd.concat([df1_pivot.iloc[:,0], df1_final], axis=1)\n",
    "df1_final = df1_final.rename(columns={'race': 'dem'})\n",
    "df1_final.to_csv('viz1.csv')"
   ]
  },
  {
   "cell_type": "code",
   "execution_count": 9,
   "metadata": {},
   "outputs": [],
   "source": [
    "# viz 1 - gender \n",
    "df2 = df[[\"gender\", \"always\", \"sporadic\", \"rarely/never\"]]\n",
    "df2_pivot = df2.groupby(['gender']).sum()\n",
    "df2_pivot[\"total\"] = df2_pivot.sum('columns')\n",
    "df2_pivot = df2_pivot.reset_index()\n",
    "df2_pivot\n",
    "\n",
    "df2_final = round(df2_pivot[['always','sporadic','rarely/never']].div(df2_pivot.total, axis = 0) * 100,1)\n",
    "df2_final = pd.concat([df2_pivot.iloc[:,0], df2_final], axis=1)\n",
    "df2_final = df2_final.rename(columns={'gender': 'dem'})\n",
    "df2_final\n",
    "df2_final.to_csv('viz2.csv')"
   ]
  },
  {
   "cell_type": "code",
   "execution_count": 24,
   "metadata": {},
   "outputs": [
    {
     "data": {
      "text/html": [
       "<div>\n",
       "<style scoped>\n",
       "    .dataframe tbody tr th:only-of-type {\n",
       "        vertical-align: middle;\n",
       "    }\n",
       "\n",
       "    .dataframe tbody tr th {\n",
       "        vertical-align: top;\n",
       "    }\n",
       "\n",
       "    .dataframe thead th {\n",
       "        text-align: right;\n",
       "    }\n",
       "</style>\n",
       "<table border=\"1\" class=\"dataframe\">\n",
       "  <thead>\n",
       "    <tr style=\"text-align: right;\">\n",
       "      <th></th>\n",
       "      <th>dem</th>\n",
       "      <th>always</th>\n",
       "      <th>sporadic</th>\n",
       "      <th>rarely/never</th>\n",
       "    </tr>\n",
       "  </thead>\n",
       "  <tbody>\n",
       "    <tr>\n",
       "      <th>3</th>\n",
       "      <td>Less than $40k</td>\n",
       "      <td>22.8</td>\n",
       "      <td>39.4</td>\n",
       "      <td>37.9</td>\n",
       "    </tr>\n",
       "    <tr>\n",
       "      <th>1</th>\n",
       "      <td>$40-75k</td>\n",
       "      <td>31.0</td>\n",
       "      <td>44.6</td>\n",
       "      <td>24.4</td>\n",
       "    </tr>\n",
       "    <tr>\n",
       "      <th>2</th>\n",
       "      <td>$75-125k</td>\n",
       "      <td>35.2</td>\n",
       "      <td>44.7</td>\n",
       "      <td>20.1</td>\n",
       "    </tr>\n",
       "    <tr>\n",
       "      <th>0</th>\n",
       "      <td>$125k or more</td>\n",
       "      <td>34.6</td>\n",
       "      <td>47.8</td>\n",
       "      <td>17.6</td>\n",
       "    </tr>\n",
       "  </tbody>\n",
       "</table>\n",
       "</div>"
      ],
      "text/plain": [
       "              dem  always  sporadic  rarely/never\n",
       "3  Less than $40k    22.8      39.4          37.9\n",
       "1         $40-75k    31.0      44.6          24.4\n",
       "2        $75-125k    35.2      44.7          20.1\n",
       "0   $125k or more    34.6      47.8          17.6"
      ]
     },
     "execution_count": 24,
     "metadata": {},
     "output_type": "execute_result"
    }
   ],
   "source": [
    "# viz 1 - income cat\n",
    "df3= df[[\"income_cat\", \"always\", \"sporadic\", \"rarely/never\"]]\n",
    "df3_pivot = df3.groupby(['income_cat']).sum()\n",
    "df3_pivot[\"total\"] = df3_pivot.sum('columns')\n",
    "df3_pivot = df3_pivot.reset_index()\n",
    "df3_pivot\n",
    "\n",
    "df3_final = round(df3_pivot[['always','sporadic','rarely/never']].div(df3_pivot.total, axis = 0) * 100,1)\n",
    "df3_final = pd.concat([df3_pivot.iloc[:,0], df3_final], axis=1)\n",
    "df3_final = df3_final.rename(columns={'income_cat': 'dem'})\n",
    "df3_final\n",
    "\n",
    "df3_final['dem'] = pd.Categorical(df3_final['dem'], [\"Less than $40k\", \"$40-75k\", \"$75-125k\", \"$125k or more\"])\n",
    "df3_final = df3_final.sort_values(\"dem\")\n",
    "df3_final.to_csv('data/viz3.csv')\n",
    "df3_final"
   ]
  },
  {
   "cell_type": "code",
   "execution_count": 25,
   "metadata": {},
   "outputs": [
    {
     "data": {
      "text/html": [
       "<div>\n",
       "<style scoped>\n",
       "    .dataframe tbody tr th:only-of-type {\n",
       "        vertical-align: middle;\n",
       "    }\n",
       "\n",
       "    .dataframe tbody tr th {\n",
       "        vertical-align: top;\n",
       "    }\n",
       "\n",
       "    .dataframe thead th {\n",
       "        text-align: right;\n",
       "    }\n",
       "</style>\n",
       "<table border=\"1\" class=\"dataframe\">\n",
       "  <thead>\n",
       "    <tr style=\"text-align: right;\">\n",
       "      <th></th>\n",
       "      <th>dem</th>\n",
       "      <th>always</th>\n",
       "      <th>sporadic</th>\n",
       "      <th>rarely/never</th>\n",
       "    </tr>\n",
       "  </thead>\n",
       "  <tbody>\n",
       "    <tr>\n",
       "      <th>1</th>\n",
       "      <td>High school or less</td>\n",
       "      <td>22.9</td>\n",
       "      <td>42.0</td>\n",
       "      <td>35.1</td>\n",
       "    </tr>\n",
       "    <tr>\n",
       "      <th>2</th>\n",
       "      <td>Some college</td>\n",
       "      <td>33.1</td>\n",
       "      <td>43.7</td>\n",
       "      <td>23.2</td>\n",
       "    </tr>\n",
       "    <tr>\n",
       "      <th>0</th>\n",
       "      <td>College</td>\n",
       "      <td>35.8</td>\n",
       "      <td>46.1</td>\n",
       "      <td>18.2</td>\n",
       "    </tr>\n",
       "  </tbody>\n",
       "</table>\n",
       "</div>"
      ],
      "text/plain": [
       "                   dem  always  sporadic  rarely/never\n",
       "1  High school or less    22.9      42.0          35.1\n",
       "2         Some college    33.1      43.7          23.2\n",
       "0              College    35.8      46.1          18.2"
      ]
     },
     "execution_count": 25,
     "metadata": {},
     "output_type": "execute_result"
    }
   ],
   "source": [
    "# viz 1 - edu\n",
    "df4 = df[[\"educ\", \"always\", \"sporadic\", \"rarely/never\"]]\n",
    "df4_pivot = df4.groupby(['educ']).sum()\n",
    "df4_pivot[\"total\"] = df4_pivot.sum('columns')\n",
    "df4_pivot = df4_pivot.reset_index()\n",
    "df4_pivot\n",
    "\n",
    "df4_final = round(df4_pivot[['always','sporadic','rarely/never']].div(df4_pivot.total, axis = 0) * 100,1)\n",
    "df4_final = pd.concat([df4_pivot.iloc[:,0], df4_final], axis=1)\n",
    "df4_final = df4_final.rename(columns={'educ': 'dem'})\n",
    "df4_final\n",
    "\n",
    "df4_final['dem'] = pd.Categorical(df4_final['dem'], [\"High school or less\", \"Some college\", \"College\"])\n",
    "df4_final = df4_final.sort_values(\"dem\")\n",
    "\n",
    "df4_final.to_csv('data/viz4.csv')\n",
    "df4_final"
   ]
  },
  {
   "cell_type": "code",
   "execution_count": 12,
   "metadata": {},
   "outputs": [
    {
     "data": {
      "text/plain": [
       "(5019, 122)"
      ]
     },
     "execution_count": 12,
     "metadata": {},
     "output_type": "execute_result"
    }
   ],
   "source": [
    "# viz 2 \n",
    "# 1: republican\n",
    "# 2: democrat\n",
    "# 3: independent\n",
    "\n",
    "df[df['Q30'].isin([1,2,3])].shape"
   ]
  },
  {
   "cell_type": "code",
   "execution_count": 13,
   "metadata": {},
   "outputs": [
    {
     "name": "stdout",
     "output_type": "stream",
     "text": [
      "5330\n",
      "486\n",
      "20\n"
     ]
    }
   ],
   "source": [
    "# registered to vote? yes no unanswered\n",
    "print(df[df['Q20'] == 1].shape[0])\n",
    "print(df[df['Q20'] == 2].shape[0])\n",
    "print(df[df['Q20'] == -1].shape[0])"
   ]
  },
  {
   "cell_type": "code",
   "execution_count": 70,
   "metadata": {},
   "outputs": [
    {
     "name": "stdout",
     "output_type": "stream",
     "text": [
      "562\n",
      "724\n",
      "228\n"
     ]
    }
   ],
   "source": [
    "# Registered, Rep, Always\n",
    "print(df[(df['Q20'] == 1) & (df['Q30'] == 1) & (df[\"always\"] == 1)].shape[0])\n",
    "# Registered, Rep, Sporadic\n",
    "print(df[(df['Q20'] == 1) & (df['Q30'] == 1) & (df[\"sporadic\"] == 1)].shape[0])\n",
    "# Registered, Rep, Never\n",
    "print(df[(df['Q20'] == 1) & (df['Q30'] == 1) & (df[\"rarely/never\"] == 1)].shape[0])"
   ]
  },
  {
   "cell_type": "code",
   "execution_count": 71,
   "metadata": {},
   "outputs": [
    {
     "name": "stdout",
     "output_type": "stream",
     "text": [
      "2\n",
      "3\n",
      "68\n"
     ]
    }
   ],
   "source": [
    "# Not Registered, Rep, Always\n",
    "print(df[(df['Q20'] == 2) & (df['Q30'] == 1) & (df[\"always\"] == 1)].shape[0])\n",
    "# Not Registered, Rep, Sporadic\n",
    "print(df[(df['Q20'] == 2) & (df['Q30'] == 1) & (df[\"sporadic\"] == 1)].shape[0])\n",
    "# Not Registered, Rep, Never\n",
    "print(df[(df['Q20'] == 2) & (df['Q30'] == 1) & (df[\"rarely/never\"] == 1)].shape[0])"
   ]
  },
  {
   "cell_type": "code",
   "execution_count": 72,
   "metadata": {},
   "outputs": [
    {
     "name": "stdout",
     "output_type": "stream",
     "text": [
      "688\n",
      "923\n",
      "312\n"
     ]
    }
   ],
   "source": [
    "# Registered, Dem, Always\n",
    "print(df[(df['Q20'] == 1) & (df['Q30'] == 2) & (df[\"always\"] == 1)].shape[0])\n",
    "# Registered, Dem, Sporadic\n",
    "print(df[(df['Q20'] == 1) & (df['Q30'] == 2) & (df[\"sporadic\"] == 1)].shape[0])\n",
    "# Registered, Dem, Never\n",
    "print(df[(df['Q20'] == 1) & (df['Q30'] == 2) & (df[\"rarely/never\"] == 1)].shape[0])"
   ]
  },
  {
   "cell_type": "code",
   "execution_count": 74,
   "metadata": {},
   "outputs": [
    {
     "name": "stdout",
     "output_type": "stream",
     "text": [
      "1\n",
      "4\n",
      "73\n"
     ]
    }
   ],
   "source": [
    "# Not Registered, Dem, Always\n",
    "print(df[(df['Q20'] == 2) & (df['Q30'] == 2) & (df[\"always\"] == 1)].shape[0])\n",
    "# Not Registered, Dem, Sporadic\n",
    "print(df[(df['Q20'] == 2) & (df['Q30'] == 2) & (df[\"sporadic\"] == 1)].shape[0])\n",
    "# Not Registered, Dem, Never\n",
    "print(df[(df['Q20'] == 2) & (df['Q30'] == 2) & (df[\"rarely/never\"] == 1)].shape[0])"
   ]
  },
  {
   "cell_type": "code",
   "execution_count": 73,
   "metadata": {},
   "outputs": [
    {
     "name": "stdout",
     "output_type": "stream",
     "text": [
      "428\n",
      "628\n",
      "268\n"
     ]
    }
   ],
   "source": [
    "# Registered, Indep, Always\n",
    "print(df[(df['Q20'] == 1) & (df['Q30'] == 3) & (df[\"always\"] == 1)].shape[0])\n",
    "# Registered, Indep, Sporadic\n",
    "print(df[(df['Q20'] == 1) & (df['Q30'] == 3) & (df[\"sporadic\"] == 1)].shape[0])\n",
    "# Registered, Indep, Never\n",
    "print(df[(df['Q20'] == 1) & (df['Q30'] == 3) & (df[\"rarely/never\"] == 1)].shape[0])"
   ]
  },
  {
   "cell_type": "code",
   "execution_count": 75,
   "metadata": {},
   "outputs": [
    {
     "name": "stdout",
     "output_type": "stream",
     "text": [
      "3\n",
      "1\n",
      "95\n"
     ]
    }
   ],
   "source": [
    "# Not Registered, Indep, Always\n",
    "print(df[(df['Q20'] == 2) & (df['Q30'] == 3) & (df[\"always\"] == 1)].shape[0])\n",
    "# Not Registered, Indep, Sporadic\n",
    "print(df[(df['Q20'] == 2) & (df['Q30'] == 3) & (df[\"sporadic\"] == 1)].shape[0])\n",
    "# Not Registered, Indep, Never\n",
    "print(df[(df['Q20'] == 2) & (df['Q30'] == 3) & (df[\"rarely/never\"] == 1)].shape[0])"
   ]
  },
  {
   "cell_type": "code",
   "execution_count": null,
   "metadata": {},
   "outputs": [],
   "source": [
    "df_rep = df[df['Q30'].isin([1])]\n",
    "df_rep_always = df_rep[df_rep[\"always\"] == 1]\n",
    "df_rep_sometimes = df_rep[df_rep[\"sporadic\"] ==1 ]\n",
    "df_rep_never = df_rep[df_rep[\"rarely/never\"] ==1 ]\n",
    "df_rep_never['Q18_1']\n",
    "\n",
    "\n",
    "df_vote = df['Q20']\n",
    "\n",
    "# #32, 33 ; strong / not strong"
   ]
  },
  {
   "cell_type": "code",
   "execution_count": 6,
   "metadata": {},
   "outputs": [],
   "source": [
    "# viz 3 get sporadic voters: \n",
    "df_test = df[df[\"sporadic\"] == 1]\n",
    "\n",
    "# source target value\n",
    "df_test2 = df_test[[\"Q18_1\", \"Q18_2\", \"Q18_3\", \"Q18_4\", \"Q18_5\",\"Q18_6\",\"Q18_7\",\"Q18_8\",\"Q18_9\",\"Q18_10\"]]\n",
    "df_test2 = df_test2.replace(2, 0)\n",
    "df_test_3  = pd.Series.to_frame(df_test2.sum(axis=0))\n",
    "\n",
    "df_test_3['source'] = 'sometimes vote'\n",
    "\n",
    "\n",
    "df_test_3 = df_test_3.rename(index={'Q18_1':'Was told they did not have the correct identification', \n",
    "                'Q18_2':'Could not find the polling place',\n",
    "                'Q18_3':'Missed the voter registration deadline',\n",
    "                'Q18_4':'Was unable to physically access the polling place',\n",
    "                'Q18_5':'Could not obtain necessary assistance to fill out a ballot',\n",
    "                'Q18_6':'Had to cast a provisional ballot',\n",
    "                'Q18_7':'Could not get off work to vote when polls were open',\n",
    "                'Q18_8':'Waited in line to vote for more than an hour',\n",
    "                'Q18_9':'Was told name was not on the list even though they were registered',\n",
    "                'Q18_10':'Did not receive absentee or mail-in ballot in time'})\n",
    "df_test_3 = df_test_3.reset_index()\n",
    "df_test_3 = df_test_3.rename(columns={'index':'target', 0: 'value'})\n",
    "df_test_3\n",
    "\n",
    "df_sometimes = df_test_3"
   ]
  },
  {
   "cell_type": "code",
   "execution_count": 7,
   "metadata": {},
   "outputs": [
    {
     "data": {
      "text/html": [
       "<div>\n",
       "<style scoped>\n",
       "    .dataframe tbody tr th:only-of-type {\n",
       "        vertical-align: middle;\n",
       "    }\n",
       "\n",
       "    .dataframe tbody tr th {\n",
       "        vertical-align: top;\n",
       "    }\n",
       "\n",
       "    .dataframe thead th {\n",
       "        text-align: right;\n",
       "    }\n",
       "</style>\n",
       "<table border=\"1\" class=\"dataframe\">\n",
       "  <thead>\n",
       "    <tr style=\"text-align: right;\">\n",
       "      <th></th>\n",
       "      <th>target</th>\n",
       "      <th>value</th>\n",
       "      <th>source</th>\n",
       "      <th>perc</th>\n",
       "    </tr>\n",
       "  </thead>\n",
       "  <tbody>\n",
       "    <tr>\n",
       "      <th>0</th>\n",
       "      <td>Was told they did not have the correct identif...</td>\n",
       "      <td>62</td>\n",
       "      <td>sometimes vote</td>\n",
       "      <td>4.32</td>\n",
       "    </tr>\n",
       "    <tr>\n",
       "      <th>1</th>\n",
       "      <td>Could not find the polling place</td>\n",
       "      <td>108</td>\n",
       "      <td>sometimes vote</td>\n",
       "      <td>7.52</td>\n",
       "    </tr>\n",
       "    <tr>\n",
       "      <th>2</th>\n",
       "      <td>Missed the voter registration deadline</td>\n",
       "      <td>107</td>\n",
       "      <td>sometimes vote</td>\n",
       "      <td>7.45</td>\n",
       "    </tr>\n",
       "    <tr>\n",
       "      <th>3</th>\n",
       "      <td>Was unable to physically access the polling place</td>\n",
       "      <td>79</td>\n",
       "      <td>sometimes vote</td>\n",
       "      <td>5.50</td>\n",
       "    </tr>\n",
       "    <tr>\n",
       "      <th>4</th>\n",
       "      <td>Could not obtain necessary assistance to fill ...</td>\n",
       "      <td>14</td>\n",
       "      <td>sometimes vote</td>\n",
       "      <td>0.97</td>\n",
       "    </tr>\n",
       "    <tr>\n",
       "      <th>5</th>\n",
       "      <td>Had to cast a provisional ballot</td>\n",
       "      <td>72</td>\n",
       "      <td>sometimes vote</td>\n",
       "      <td>5.01</td>\n",
       "    </tr>\n",
       "    <tr>\n",
       "      <th>6</th>\n",
       "      <td>Could not get off work to vote when polls were...</td>\n",
       "      <td>233</td>\n",
       "      <td>sometimes vote</td>\n",
       "      <td>16.23</td>\n",
       "    </tr>\n",
       "    <tr>\n",
       "      <th>7</th>\n",
       "      <td>Waited in line to vote for more than an hour</td>\n",
       "      <td>518</td>\n",
       "      <td>sometimes vote</td>\n",
       "      <td>36.07</td>\n",
       "    </tr>\n",
       "    <tr>\n",
       "      <th>8</th>\n",
       "      <td>Was told name was not on the list even though ...</td>\n",
       "      <td>114</td>\n",
       "      <td>sometimes vote</td>\n",
       "      <td>7.94</td>\n",
       "    </tr>\n",
       "    <tr>\n",
       "      <th>9</th>\n",
       "      <td>Did not receive absentee or mail-in ballot in ...</td>\n",
       "      <td>129</td>\n",
       "      <td>sometimes vote</td>\n",
       "      <td>8.98</td>\n",
       "    </tr>\n",
       "  </tbody>\n",
       "</table>\n",
       "</div>"
      ],
      "text/plain": [
       "                                              target  value          source  \\\n",
       "0  Was told they did not have the correct identif...     62  sometimes vote   \n",
       "1                   Could not find the polling place    108  sometimes vote   \n",
       "2             Missed the voter registration deadline    107  sometimes vote   \n",
       "3  Was unable to physically access the polling place     79  sometimes vote   \n",
       "4  Could not obtain necessary assistance to fill ...     14  sometimes vote   \n",
       "5                   Had to cast a provisional ballot     72  sometimes vote   \n",
       "6  Could not get off work to vote when polls were...    233  sometimes vote   \n",
       "7       Waited in line to vote for more than an hour    518  sometimes vote   \n",
       "8  Was told name was not on the list even though ...    114  sometimes vote   \n",
       "9  Did not receive absentee or mail-in ballot in ...    129  sometimes vote   \n",
       "\n",
       "    perc  \n",
       "0   4.32  \n",
       "1   7.52  \n",
       "2   7.45  \n",
       "3   5.50  \n",
       "4   0.97  \n",
       "5   5.01  \n",
       "6  16.23  \n",
       "7  36.07  \n",
       "8   7.94  \n",
       "9   8.98  "
      ]
     },
     "execution_count": 7,
     "metadata": {},
     "output_type": "execute_result"
    }
   ],
   "source": [
    "df_sometimes[\"perc\"] = round(df_sometimes['value'].div(df_sometimes['value'].sum()) *100,2)\n",
    "#df_sometimes['value'].sum()\n",
    "df_sometimes"
   ]
  },
  {
   "cell_type": "code",
   "execution_count": 8,
   "metadata": {},
   "outputs": [],
   "source": [
    "# viz 3 get never voters: \n",
    "df_test = df[df[\"rarely/never\"] == 1]\n",
    "\n",
    "# source target value\n",
    "df_test2 = df_test[[\"Q18_1\", \"Q18_2\", \"Q18_3\", \"Q18_4\", \"Q18_5\",\"Q18_6\",\"Q18_7\",\"Q18_8\",\"Q18_9\",\"Q18_10\"]]\n",
    "df_test2 = df_test2.replace(2, 0)\n",
    "df_test_3  = pd.Series.to_frame(df_test2.sum(axis=0))\n",
    "\n",
    "df_test_3['source'] = 'rarely or never vote'\n",
    "\n",
    "\n",
    "df_test_3 = df_test_3.rename(index={'Q18_1':'Was told they did not have the correct identification', \n",
    "                'Q18_2':'Could not find the polling place',\n",
    "                'Q18_3':'Missed the voter registration deadline',\n",
    "                'Q18_4':'Was unable to physically access the polling place',\n",
    "                'Q18_5':'Could not obtain necessary assistance to fill out a ballot',\n",
    "                'Q18_6':'Had to cast a provisional ballot',\n",
    "                'Q18_7':'Could not get off work to vote when polls were open',\n",
    "                'Q18_8':'Waited in line to vote for more than an hour',\n",
    "                'Q18_9':'Was told name was not on the list even though they were registered',\n",
    "                'Q18_10':'Did not receive absentee or mail-in ballot in time'})\n",
    "df_test_3 = df_test_3.reset_index()\n",
    "df_test_3 = df_test_3.rename(columns={'index':'target', 0: 'value'})\n",
    "df_test_3[\"perc\"] = round(df_test_3['value'].div(df_test_3['value'].sum()) *100,2)\n",
    "df_rarely_vote = df_test_3"
   ]
  },
  {
   "cell_type": "code",
   "execution_count": 9,
   "metadata": {},
   "outputs": [],
   "source": [
    "# viz 3 get always voters: \n",
    "df_test = df[df[\"always\"] == 1]\n",
    "\n",
    "# source target value\n",
    "df_test2 = df_test[[\"Q18_1\", \"Q18_2\", \"Q18_3\", \"Q18_4\", \"Q18_5\",\"Q18_6\",\"Q18_7\",\"Q18_8\",\"Q18_9\",\"Q18_10\"]]\n",
    "df_test2 = df_test2.replace(2, 0)\n",
    "df_test_3  = pd.Series.to_frame(df_test2.sum(axis=0))\n",
    "\n",
    "df_test_3['source'] = 'always'\n",
    "\n",
    "\n",
    "df_test_3 = df_test_3.rename(index={'Q18_1':'Was told they did not have the correct identification', \n",
    "                'Q18_2':'Could not find the polling place',\n",
    "                'Q18_3':'Missed the voter registration deadline',\n",
    "                'Q18_4':'Was unable to physically access the polling place',\n",
    "                'Q18_5':'Could not obtain necessary assistance to fill out a ballot',\n",
    "                'Q18_6':'Had to cast a provisional ballot',\n",
    "                'Q18_7':'Could not get off work to vote when polls were open',\n",
    "                'Q18_8':'Waited in line to vote for more than an hour',\n",
    "                'Q18_9':'Was told name was not on the list even though they were registered',\n",
    "                'Q18_10':'Did not receive absentee or mail-in ballot in time'})\n",
    "df_test_3 = df_test_3.reset_index()\n",
    "df_test_3 = df_test_3.rename(columns={'index':'target', 0: 'value'})\n",
    "df_test_3[\"perc\"] = round(df_test_3['value'].div(df_test_3['value'].sum()) *100,2)\n",
    "df_always = df_test_3"
   ]
  },
  {
   "cell_type": "code",
   "execution_count": 10,
   "metadata": {},
   "outputs": [],
   "source": [
    "# concatenate \n",
    "df_parallel = pd.concat([df_rarely_vote, df_sometimes, df_always])\n",
    "df_parallel\n",
    "df_parallel.to_csv('parallel.csv')"
   ]
  },
  {
   "cell_type": "code",
   "execution_count": 82,
   "metadata": {},
   "outputs": [
    {
     "name": "stderr",
     "output_type": "stream",
     "text": [
      "/var/folders/8g/3jp0k1x54d1f91mld1sc5gq80000gn/T/ipykernel_694/96537658.py:5: SettingWithCopyWarning: \n",
      "A value is trying to be set on a copy of a slice from a DataFrame.\n",
      "Try using .loc[row_indexer,col_indexer] = value instead\n",
      "\n",
      "See the caveats in the documentation: https://pandas.pydata.org/pandas-docs/stable/user_guide/indexing.html#returning-a-view-versus-a-copy\n",
      "  df_4['sometimes'] = np.where(df_4['Q26'] == 2, 1, 0)\n",
      "/var/folders/8g/3jp0k1x54d1f91mld1sc5gq80000gn/T/ipykernel_694/96537658.py:6: SettingWithCopyWarning: \n",
      "A value is trying to be set on a copy of a slice from a DataFrame.\n",
      "Try using .loc[row_indexer,col_indexer] = value instead\n",
      "\n",
      "See the caveats in the documentation: https://pandas.pydata.org/pandas-docs/stable/user_guide/indexing.html#returning-a-view-versus-a-copy\n",
      "  df_4['rarely or never'] = np.where((df_4['Q26']==3) |(df_4['Q26']==4),1,0)\n"
     ]
    }
   ],
   "source": [
    "# viz 4 disilliusionment Question 29\n",
    "\n",
    "df_4 = df[df['Q26'].isin([2,3,4])]\n",
    "\n",
    "df_4['sometimes'] = np.where(df_4['Q26'] == 2, 1, 0)\n",
    "df_4['rarely or never'] = np.where((df_4['Q26']==3) |(df_4['Q26']==4),1,0)\n",
    "df_4 = df_4[[\"Q29_1\", \"Q29_2\", \"Q29_3\",\"Q29_4\",\"Q29_5\",\"Q29_6\",\"Q29_7\",\"Q29_8\",\"Q29_9\", \"sometimes\", \"rarely or never\"]]\n",
    "df_4 = df_4.replace(-1, 0)\n",
    "\n",
    "# Q1\n",
    "df_4_q1 = df_4[[\"Q29_1\",\"sometimes\", \"rarely or never\"]]\n",
    "df_4_q1 = df_4_q1.groupby(['Q29_1']).sum()\n",
    "df_4_q1[\"total\"] = df_4_q1.sum('columns')\n",
    "df_4_q1 = df_4_q1.reset_index()\n",
    "df_4_q1 = round(df_4_q1[['sometimes','rarely or never']].div(df_4_q1.total, axis = 0) * 100,1)\n",
    "df_4_q1 = df_4_q1.drop(0)\n",
    "df_4_q1 = df_4_q1.T\n",
    "df_4_q1 = df_4_q1.reset_index()\n",
    "df_4_q1 = df_4_q1.rename(columns={'index': 'voter', 1:'perc_agree'})\n",
    "\n",
    "# Q2\n",
    "df_4_q2 = df_4[[\"Q29_2\",\"sometimes\", \"rarely or never\"]]\n",
    "df_4_q2 = df_4_q2.groupby(['Q29_2']).sum()\n",
    "df_4_q2[\"total\"] = df_4_q2.sum('columns')\n",
    "df_4_q2 = df_4_q2.reset_index()\n",
    "df_4_q2 = round(df_4_q2[['sometimes','rarely or never']].div(df_4_q2.total, axis = 0) * 100,1)\n",
    "df_4_q2 = df_4_q2.drop(0)\n",
    "df_4_q2 = df_4_q2.T\n",
    "df_4_q2 = df_4_q2.reset_index()\n",
    "df_4_q2 = df_4_q2.rename(columns={'index': 'voter', 1:'perc_agree'})\n",
    "\n",
    "# Q3\n",
    "df_4_q3 = df_4[[\"Q29_3\",\"sometimes\", \"rarely or never\"]]\n",
    "df_4_q3 = df_4_q3.groupby(['Q29_3']).sum()\n",
    "df_4_q3[\"total\"] = df_4_q3.sum('columns')\n",
    "df_4_q3 = df_4_q3.reset_index()\n",
    "df_4_q3 = round(df_4_q3[['sometimes','rarely or never']].div(df_4_q3.total, axis = 0) * 100,1)\n",
    "df_4_q3 = df_4_q3.drop(0)\n",
    "df_4_q3 = df_4_q3.T\n",
    "df_4_q3 = df_4_q3.reset_index()\n",
    "df_4_q3 = df_4_q3.rename(columns={'index': 'voter', 1:'perc_agree'})\n",
    "\n",
    "\n",
    "# Q4\n",
    "df_4_q4 = df_4[[\"Q29_4\",\"sometimes\", \"rarely or never\"]]\n",
    "df_4_q4 = df_4_q4.groupby(['Q29_4']).sum()\n",
    "df_4_q4[\"total\"] = df_4_q4.sum('columns')\n",
    "df_4_q4 = df_4_q4.reset_index()\n",
    "df_4_q4 = round(df_4_q4[['sometimes','rarely or never']].div(df_4_q4.total, axis = 0) * 100,1)\n",
    "df_4_q4 = df_4_q4.drop(0)\n",
    "df_4_q4 = df_4_q4.T\n",
    "df_4_q4 = df_4_q4.reset_index()\n",
    "df_4_q4 = df_4_q4.rename(columns={'index': 'voter', 1:'perc_agree'})\n",
    "\n",
    "# Q5\n",
    "df_4_q5 = df_4[[\"Q29_5\",\"sometimes\", \"rarely or never\"]]\n",
    "df_4_q5 = df_4_q5.groupby(['Q29_5']).sum()\n",
    "df_4_q5[\"total\"] = df_4_q5.sum('columns')\n",
    "df_4_q5 = df_4_q5.reset_index()\n",
    "df_4_q5 = round(df_4_q5[['sometimes','rarely or never']].div(df_4_q5.total, axis = 0) * 100,1)\n",
    "df_4_q5 = df_4_q5.drop(0)\n",
    "df_4_q5 = df_4_q5.T\n",
    "df_4_q5 = df_4_q5.reset_index()\n",
    "df_4_q5 = df_4_q5.rename(columns={'index': 'voter', 1:'perc_agree'})\n",
    "\n",
    "\n",
    "# Q6\n",
    "df_4_q6 = df_4[[\"Q29_6\",\"sometimes\", \"rarely or never\"]]\n",
    "df_4_q6 = df_4_q6.groupby(['Q29_6']).sum()\n",
    "df_4_q6[\"total\"] = df_4_q6.sum('columns')\n",
    "df_4_q6 = df_4_q6.reset_index()\n",
    "df_4_q6 = round(df_4_q6[['sometimes','rarely or never']].div(df_4_q6.total, axis = 0) * 100,1)\n",
    "df_4_q6 = df_4_q6.drop(0)\n",
    "df_4_q6 = df_4_q6.T\n",
    "df_4_q6 = df_4_q6.reset_index()\n",
    "df_4_q6 = df_4_q6.rename(columns={'index': 'voter', 1:'perc_agree'})\n",
    "\n",
    "\n",
    "# Q7\n",
    "df_4_q7 = df_4[[\"Q29_7\",\"sometimes\", \"rarely or never\"]]\n",
    "df_4_q7 = df_4_q7.groupby(['Q29_7']).sum()\n",
    "df_4_q7[\"total\"] = df_4_q7.sum('columns')\n",
    "df_4_q7 = df_4_q7.reset_index()\n",
    "df_4_q7 = round(df_4_q7[['sometimes','rarely or never']].div(df_4_q7.total, axis = 0) * 100,1)\n",
    "df_4_q7 = df_4_q7.drop(0)\n",
    "df_4_q7 = df_4_q7.T\n",
    "df_4_q7 = df_4_q7.reset_index()\n",
    "df_4_q7 = df_4_q7.rename(columns={'index': 'voter', 1:'perc_agree'})\n",
    "\n",
    "# Q8\n",
    "df_4_q8 = df_4[[\"Q29_8\",\"sometimes\", \"rarely or never\"]]\n",
    "df_4_q8 = df_4_q8.groupby(['Q29_8']).sum()\n",
    "df_4_q8[\"total\"] = df_4_q8.sum('columns')\n",
    "df_4_q8 = df_4_q8.reset_index()\n",
    "df_4_q8 = round(df_4_q8[['sometimes','rarely or never']].div(df_4_q8.total, axis = 0) * 100,1)\n",
    "df_4_q8 = df_4_q8.drop(0)\n",
    "df_4_q8 = df_4_q8.T\n",
    "df_4_q8 = df_4_q8.reset_index()\n",
    "df_4_q8 = df_4_q8.rename(columns={'index': 'voter', 1:'perc_agree'})\n",
    "\n",
    "# Q9\n",
    "df_4_q9 = df_4[[\"Q29_9\",\"sometimes\", \"rarely or never\"]]\n",
    "df_4_q9 = df_4_q9.groupby(['Q29_9']).sum()\n",
    "df_4_q9[\"total\"] = df_4_q9.sum('columns')\n",
    "df_4_q9 = df_4_q9.reset_index()\n",
    "df_4_q9 = round(df_4_q9[['sometimes','rarely or never']].div(df_4_q9.total, axis = 0) * 100,1)\n",
    "df_4_q9 = df_4_q9.drop(0)\n",
    "df_4_q9 = df_4_q9.T\n",
    "df_4_q9 = df_4_q9.reset_index()\n",
    "df_4_q9 = df_4_q9.rename(columns={'index': 'voter', 1:'perc_agree'})\n",
    "\n",
    "df_4_q1.to_csv('data/bar2_1.csv')\n",
    "df_4_q2.to_csv('data/bar2_2.csv')\n",
    "df_4_q3.to_csv('data/bar2_3.csv')\n",
    "df_4_q4.to_csv('data/bar2_4.csv')\n",
    "df_4_q5.to_csv('data/bar2_5.csv')\n",
    "df_4_q6.to_csv('data/bar2_6.csv')\n",
    "df_4_q7.to_csv('data/bar2_7.csv')\n",
    "df_4_q8.to_csv('data/bar2_8.csv')\n",
    "df_4_q9.to_csv('data/bar2_9.csv')"
   ]
  },
  {
   "cell_type": "code",
   "execution_count": 83,
   "metadata": {},
   "outputs": [
    {
     "data": {
      "text/html": [
       "<div>\n",
       "<style scoped>\n",
       "    .dataframe tbody tr th:only-of-type {\n",
       "        vertical-align: middle;\n",
       "    }\n",
       "\n",
       "    .dataframe tbody tr th {\n",
       "        vertical-align: top;\n",
       "    }\n",
       "\n",
       "    .dataframe thead th {\n",
       "        text-align: right;\n",
       "    }\n",
       "</style>\n",
       "<table border=\"1\" class=\"dataframe\">\n",
       "  <thead>\n",
       "    <tr style=\"text-align: right;\">\n",
       "      <th></th>\n",
       "      <th>voter</th>\n",
       "      <th>perc_agree</th>\n",
       "    </tr>\n",
       "  </thead>\n",
       "  <tbody>\n",
       "    <tr>\n",
       "      <th>0</th>\n",
       "      <td>sometimes</td>\n",
       "      <td>39.8</td>\n",
       "    </tr>\n",
       "    <tr>\n",
       "      <th>1</th>\n",
       "      <td>rarely or never</td>\n",
       "      <td>60.2</td>\n",
       "    </tr>\n",
       "  </tbody>\n",
       "</table>\n",
       "</div>"
      ],
      "text/plain": [
       "             voter  perc_agree\n",
       "0        sometimes        39.8\n",
       "1  rarely or never        60.2"
      ]
     },
     "execution_count": 83,
     "metadata": {},
     "output_type": "execute_result"
    }
   ],
   "source": [
    "df_4_q1\n",
    "\n",
    "df_4_q1"
   ]
  }
 ],
 "metadata": {
  "kernelspec": {
   "display_name": "Python 3.9.13 64-bit",
   "language": "python",
   "name": "python3"
  },
  "language_info": {
   "codemirror_mode": {
    "name": "ipython",
    "version": 3
   },
   "file_extension": ".py",
   "mimetype": "text/x-python",
   "name": "python",
   "nbconvert_exporter": "python",
   "pygments_lexer": "ipython3",
   "version": "3.9.13"
  },
  "orig_nbformat": 4,
  "vscode": {
   "interpreter": {
    "hash": "aee8b7b246df8f9039afb4144a1f6fd8d2ca17a180786b69acc140d282b71a49"
   }
  }
 },
 "nbformat": 4,
 "nbformat_minor": 2
}
