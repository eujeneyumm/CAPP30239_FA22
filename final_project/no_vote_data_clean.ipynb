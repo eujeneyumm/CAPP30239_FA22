{
 "cells": [
  {
   "cell_type": "code",
   "execution_count": null,
   "metadata": {},
   "outputs": [],
   "source": [
    "import numpy as np\n",
    "import pandas as pd"
   ]
  },
  {
   "cell_type": "code",
   "execution_count": null,
   "metadata": {},
   "outputs": [],
   "source": [
    "df = pd.read_csv('no_voter_data.csv')"
   ]
  },
  {
   "cell_type": "code",
   "execution_count": null,
   "metadata": {},
   "outputs": [],
   "source": [
    "# create necessary count columns\n",
    "df['always'] = np.where(df['voter_category'] == 'always', 1, 0)\n",
    "df['sporadic'] = np.where(df['voter_category'] == 'sporadic', 1, 0)\n",
    "df['rarely/never'] = np.where(df['voter_category'] == 'rarely/never', 1, 0)"
   ]
  },
  {
   "cell_type": "code",
   "execution_count": null,
   "metadata": {},
   "outputs": [],
   "source": [
    "# viz 1 - race \n",
    "df1 = df[[\"race\", \"always\", \"sporadic\", \"rarely/never\"]]\n",
    "df1_pivot = df1.groupby(['race']).sum()\n",
    "df1_pivot[\"total\"] = df1_pivot.sum('columns')\n",
    "df1_pivot = df1_pivot.reset_index()\n",
    "df1_pivot"
   ]
  },
  {
   "cell_type": "code",
   "execution_count": null,
   "metadata": {},
   "outputs": [],
   "source": [
    "df1_final = round(df1_pivot[['always','sporadic','rarely/never']].div(df1_pivot.total, axis = 0) * 100,1)\n",
    "df1_final = pd.concat([df1_pivot.iloc[:,0], df1_final], axis=1)\n",
    "df1_final = df1_final.rename(columns={'race': 'dem'})\n",
    "df1_final.to_csv('viz1.csv')"
   ]
  },
  {
   "cell_type": "code",
   "execution_count": null,
   "metadata": {},
   "outputs": [],
   "source": [
    "# viz 1 - gender \n",
    "df2 = df[[\"gender\", \"always\", \"sporadic\", \"rarely/never\"]]\n",
    "df2_pivot = df2.groupby(['gender']).sum()\n",
    "df2_pivot[\"total\"] = df2_pivot.sum('columns')\n",
    "df2_pivot = df2_pivot.reset_index()\n",
    "df2_pivot\n",
    "\n",
    "df2_final = round(df2_pivot[['always','sporadic','rarely/never']].div(df2_pivot.total, axis = 0) * 100,1)\n",
    "df2_final = pd.concat([df2_pivot.iloc[:,0], df2_final], axis=1)\n",
    "df2_final = df2_final.rename(columns={'gender': 'dem'})\n",
    "df2_final\n",
    "df2_final.to_csv('viz2.csv')"
   ]
  },
  {
   "cell_type": "code",
   "execution_count": null,
   "metadata": {},
   "outputs": [],
   "source": [
    "# viz 1 - income cat\n",
    "df3= df[[\"income_cat\", \"always\", \"sporadic\", \"rarely/never\"]]\n",
    "df3_pivot = df4.groupby(['income_cat']).sum()\n",
    "df3_pivot[\"total\"] = df3_pivot.sum('columns')\n",
    "df3_pivot = df3_pivot.reset_index()\n",
    "df3_pivot\n",
    "\n",
    "df3_final = round(df3_pivot[['always','sporadic','rarely/never']].div(df3_pivot.total, axis = 0) * 100,1)\n",
    "df3_final = pd.concat([df3_pivot.iloc[:,0], df3_final], axis=1)\n",
    "df3_final = df3_final.rename(columns={'income_cat': 'dem'})\n",
    "df3_final\n",
    "df3_final.to_csv('viz3.csv')\n",
    "df3_final"
   ]
  },
  {
   "cell_type": "code",
   "execution_count": null,
   "metadata": {},
   "outputs": [],
   "source": [
    "# viz 1 - edu\n",
    "df4 = df[[\"educ\", \"always\", \"sporadic\", \"rarely/never\"]]\n",
    "df4_pivot = df4.groupby(['educ']).sum()\n",
    "df4_pivot[\"total\"] = df4_pivot.sum('columns')\n",
    "df4_pivot = df4_pivot.reset_index()\n",
    "df4_pivot\n",
    "\n",
    "df4_final = round(df4_pivot[['always','sporadic','rarely/never']].div(df4_pivot.total, axis = 0) * 100,1)\n",
    "df4_final = pd.concat([df4_pivot.iloc[:,0], df4_final], axis=1)\n",
    "df4_final = df4_final.rename(columns={'educ': 'dem'})\n",
    "df4_final\n",
    "df4_final.to_csv('viz4.csv')\n",
    "df4_final"
   ]
  },
  {
   "cell_type": "code",
   "execution_count": null,
   "metadata": {},
   "outputs": [],
   "source": [
    "# viz 2 \n",
    "# 1: republican\n",
    "# 2: democrat\n",
    "# 3: independent\n",
    "\n",
    "df[df['Q30'].isin([1,2,3])].shape"
   ]
  },
  {
   "cell_type": "code",
   "execution_count": null,
   "metadata": {},
   "outputs": [],
   "source": [
    "#df_vote = df['Q20']\n",
    "# registered to vote? yes no unanswered\n",
    "print(df[df['Q20'] == 1].shape[0])\n",
    "print(df[df['Q20'] == 2].shape[0])\n",
    "print(df[df['Q20'] == -1].shape[0])\n"
   ]
  },
  {
   "cell_type": "code",
   "execution_count": 70,
   "metadata": {},
   "outputs": [
    {
     "name": "stdout",
     "output_type": "stream",
     "text": [
      "562\n",
      "724\n",
      "228\n"
     ]
    }
   ],
   "source": [
    "# Registered, Rep, Always\n",
    "print(df[(df['Q20'] == 1) & (df['Q30'] == 1) & (df[\"always\"] == 1)].shape[0])\n",
    "# Registered, Rep, Sporadic\n",
    "print(df[(df['Q20'] == 1) & (df['Q30'] == 1) & (df[\"sporadic\"] == 1)].shape[0])\n",
    "# Registered, Rep, Never\n",
    "print(df[(df['Q20'] == 1) & (df['Q30'] == 1) & (df[\"rarely/never\"] == 1)].shape[0])"
   ]
  },
  {
   "cell_type": "code",
   "execution_count": 71,
   "metadata": {},
   "outputs": [
    {
     "name": "stdout",
     "output_type": "stream",
     "text": [
      "2\n",
      "3\n",
      "68\n"
     ]
    }
   ],
   "source": [
    "# Not Registered, Rep, Always\n",
    "print(df[(df['Q20'] == 2) & (df['Q30'] == 1) & (df[\"always\"] == 1)].shape[0])\n",
    "# Not Registered, Rep, Sporadic\n",
    "print(df[(df['Q20'] == 2) & (df['Q30'] == 1) & (df[\"sporadic\"] == 1)].shape[0])\n",
    "# Not Registered, Rep, Never\n",
    "print(df[(df['Q20'] == 2) & (df['Q30'] == 1) & (df[\"rarely/never\"] == 1)].shape[0])"
   ]
  },
  {
   "cell_type": "code",
   "execution_count": 72,
   "metadata": {},
   "outputs": [
    {
     "name": "stdout",
     "output_type": "stream",
     "text": [
      "688\n",
      "923\n",
      "312\n"
     ]
    }
   ],
   "source": [
    "# Registered, Dem, Always\n",
    "print(df[(df['Q20'] == 1) & (df['Q30'] == 2) & (df[\"always\"] == 1)].shape[0])\n",
    "# Registered, Dem, Sporadic\n",
    "print(df[(df['Q20'] == 1) & (df['Q30'] == 2) & (df[\"sporadic\"] == 1)].shape[0])\n",
    "# Registered, Dem, Never\n",
    "print(df[(df['Q20'] == 1) & (df['Q30'] == 2) & (df[\"rarely/never\"] == 1)].shape[0])"
   ]
  },
  {
   "cell_type": "code",
   "execution_count": 74,
   "metadata": {},
   "outputs": [
    {
     "name": "stdout",
     "output_type": "stream",
     "text": [
      "1\n",
      "4\n",
      "73\n"
     ]
    }
   ],
   "source": [
    "# Not Registered, Dem, Always\n",
    "print(df[(df['Q20'] == 2) & (df['Q30'] == 2) & (df[\"always\"] == 1)].shape[0])\n",
    "# Not Registered, Dem, Sporadic\n",
    "print(df[(df['Q20'] == 2) & (df['Q30'] == 2) & (df[\"sporadic\"] == 1)].shape[0])\n",
    "# Not Registered, Dem, Never\n",
    "print(df[(df['Q20'] == 2) & (df['Q30'] == 2) & (df[\"rarely/never\"] == 1)].shape[0])"
   ]
  },
  {
   "cell_type": "code",
   "execution_count": 73,
   "metadata": {},
   "outputs": [
    {
     "name": "stdout",
     "output_type": "stream",
     "text": [
      "428\n",
      "628\n",
      "268\n"
     ]
    }
   ],
   "source": [
    "# Registered, Indep, Always\n",
    "print(df[(df['Q20'] == 1) & (df['Q30'] == 3) & (df[\"always\"] == 1)].shape[0])\n",
    "# Registered, Indep, Sporadic\n",
    "print(df[(df['Q20'] == 1) & (df['Q30'] == 3) & (df[\"sporadic\"] == 1)].shape[0])\n",
    "# Registered, Indep, Never\n",
    "print(df[(df['Q20'] == 1) & (df['Q30'] == 3) & (df[\"rarely/never\"] == 1)].shape[0])"
   ]
  },
  {
   "cell_type": "code",
   "execution_count": 75,
   "metadata": {},
   "outputs": [
    {
     "name": "stdout",
     "output_type": "stream",
     "text": [
      "3\n",
      "1\n",
      "95\n"
     ]
    }
   ],
   "source": [
    "# Not Registered, Indep, Always\n",
    "print(df[(df['Q20'] == 2) & (df['Q30'] == 3) & (df[\"always\"] == 1)].shape[0])\n",
    "# Not Registered, Indep, Sporadic\n",
    "print(df[(df['Q20'] == 2) & (df['Q30'] == 3) & (df[\"sporadic\"] == 1)].shape[0])\n",
    "# Not Registered, Indep, Never\n",
    "print(df[(df['Q20'] == 2) & (df['Q30'] == 3) & (df[\"rarely/never\"] == 1)].shape[0])"
   ]
  },
  {
   "cell_type": "code",
   "execution_count": null,
   "metadata": {},
   "outputs": [],
   "source": [
    "df_rep = df[df['Q30'].isin([1])]\n",
    "df_rep_always = df_rep[df_rep[\"always\"] == 1]\n",
    "df_rep_sometimes = df_rep[df_rep[\"sporadic\"] ==1 ]\n",
    "df_rep_never = df_rep[df_rep[\"rarely/never\"] ==1 ]\n",
    "df_rep_never['Q18_1']\n",
    "\n",
    "\n",
    "df_vote = df['Q20']\n",
    "\n",
    "# #32, 33 ; strong / not strong"
   ]
  },
  {
   "cell_type": "code",
   "execution_count": 117,
   "metadata": {},
   "outputs": [],
   "source": [
    "# viz 3 : \n",
    "df_test = df[(df[\"rarely/never\"] == 1) | (df[\"sporadic\"] == 1)]\n",
    "\n",
    "# source target value\n",
    "df_test2 = df_test[[\"Q18_1\", \"Q18_2\", \"Q18_3\", \"Q18_4\", \"Q18_5\",\"Q18_6\",\"Q18_7\",\"Q18_8\",\"Q18_9\",\"Q18_10\"]]\n",
    "df_test2 = df_test2.replace(2, 0)\n",
    "df_test_3  = pd.Series.to_frame(df_test2.sum(axis=0))\n",
    "\n",
    "df_test_3['source'] = 'sometimes or never votes'\n",
    "\n",
    "\n",
    "df_test_3 = df_test_3.rename(index={'Q18_1':'Was told they did not have the correct identification', \n",
    "                'Q18_2':'Could not find the polling place',\n",
    "                'Q18_3':'Missed the voter registration deadline',\n",
    "                'Q18_4':'Was unable to physically access the polling place',\n",
    "                'Q18_5':'Could not obtain necessary assistance to fill out a ballot',\n",
    "                'Q18_6':'Had to cast a provisional ballot',\n",
    "                'Q18_7':'Could not get off work to vote when polls were open',\n",
    "                'Q18_8':'Waited in line to vote for more than an hour',\n",
    "                'Q18_9':'Was told name was not on the list even though they were registered',\n",
    "                'Q18_10':'Did not receive absentee or mail-in ballot in time'})\n",
    "df_test_3 = df_test_3.reset_index()\n",
    "df_test_3 = df_test_3.rename(columns={'index':'target', 0: 'value'})\n",
    "df_test_3\n",
    "\n",
    "df_test_3.to_csv('parallel.csv')"
   ]
  },
  {
   "cell_type": "code",
   "execution_count": null,
   "metadata": {},
   "outputs": [],
   "source": []
  }
 ],
 "metadata": {
  "kernelspec": {
   "display_name": "Python 3.9.13 64-bit",
   "language": "python",
   "name": "python3"
  },
  "language_info": {
   "codemirror_mode": {
    "name": "ipython",
    "version": 3
   },
   "file_extension": ".py",
   "mimetype": "text/x-python",
   "name": "python",
   "nbconvert_exporter": "python",
   "pygments_lexer": "ipython3",
   "version": "3.9.13"
  },
  "orig_nbformat": 4,
  "vscode": {
   "interpreter": {
    "hash": "aee8b7b246df8f9039afb4144a1f6fd8d2ca17a180786b69acc140d282b71a49"
   }
  }
 },
 "nbformat": 4,
 "nbformat_minor": 2
}
